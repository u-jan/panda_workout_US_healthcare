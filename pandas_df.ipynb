{
 "cells": [
  {
   "cell_type": "markdown",
   "metadata": {},
   "source": [
    "### Exploring Health Care data using Pandas\n",
    "\n",
    "The US famously has the most expensive healthcare system in the world. Study after study shows that while costs for the same course of treatment vary widely between hospitals, patient outcomes are generally not correlated with these costs. Compounding this problem is the fact that healthcare treatment and cost data are notoriously difficult to interpret. So most people do not consider costs when seeking treatment. However, you as a data scientist are much better equipped to do so than an average consumer. Where would you seek treatment?\n",
    "\n",
    "(if you don't want to become a data scientist in order to be more confident about where to seek treatment, you can always move any other country which provides free or affordable healthcare)"
   ]
  },
  {
   "cell_type": "code",
   "execution_count": 113,
   "metadata": {},
   "outputs": [],
   "source": [
    "import numpy as np\n",
    "import pandas as pd\n",
    "\n",
    "import warnings\n",
    "warnings.filterwarnings('ignore')"
   ]
  },
  {
   "cell_type": "code",
   "execution_count": 114,
   "metadata": {},
   "outputs": [],
   "source": [
    "df = pd.read_csv(\"data/hospital-costs.csv\")"
   ]
  },
  {
   "cell_type": "code",
   "execution_count": 115,
   "metadata": {},
   "outputs": [
    {
     "data": {
      "text/html": [
       "<div>\n",
       "<style>\n",
       "    .dataframe thead tr:only-child th {\n",
       "        text-align: right;\n",
       "    }\n",
       "\n",
       "    .dataframe thead th {\n",
       "        text-align: left;\n",
       "    }\n",
       "\n",
       "    .dataframe tbody tr th {\n",
       "        vertical-align: top;\n",
       "    }\n",
       "</style>\n",
       "<table border=\"1\" class=\"dataframe\">\n",
       "  <thead>\n",
       "    <tr style=\"text-align: right;\">\n",
       "      <th></th>\n",
       "      <th>Year</th>\n",
       "      <th>Facility Id</th>\n",
       "      <th>Facility Name</th>\n",
       "      <th>APR DRG Code</th>\n",
       "      <th>APR Severity of Illness Code</th>\n",
       "      <th>APR DRG Description</th>\n",
       "      <th>APR Severity of Illness Description</th>\n",
       "      <th>APR Medical Surgical Code</th>\n",
       "      <th>APR Medical Surgical Description</th>\n",
       "      <th>Discharges</th>\n",
       "      <th>Mean Charge</th>\n",
       "      <th>Median Charge</th>\n",
       "      <th>Mean Cost</th>\n",
       "      <th>Median Cost</th>\n",
       "    </tr>\n",
       "  </thead>\n",
       "  <tbody>\n",
       "    <tr>\n",
       "      <th>0</th>\n",
       "      <td>2011</td>\n",
       "      <td>324</td>\n",
       "      <td>Adirondack Medical Center-Saranac Lake Site</td>\n",
       "      <td>4</td>\n",
       "      <td>4</td>\n",
       "      <td>Tracheostomy W MV 96+ Hours W Extensive Proced...</td>\n",
       "      <td>Extreme</td>\n",
       "      <td>P</td>\n",
       "      <td>Surgical</td>\n",
       "      <td>3</td>\n",
       "      <td>361289.0</td>\n",
       "      <td>210882.0</td>\n",
       "      <td>196080.0</td>\n",
       "      <td>123347.0</td>\n",
       "    </tr>\n",
       "    <tr>\n",
       "      <th>1</th>\n",
       "      <td>2011</td>\n",
       "      <td>324</td>\n",
       "      <td>Adirondack Medical Center-Saranac Lake Site</td>\n",
       "      <td>5</td>\n",
       "      <td>4</td>\n",
       "      <td>Tracheostomy W MV 96+ Hours W/O Extensive Proc...</td>\n",
       "      <td>Extreme</td>\n",
       "      <td>P</td>\n",
       "      <td>Surgical</td>\n",
       "      <td>1</td>\n",
       "      <td>102190.0</td>\n",
       "      <td>102190.0</td>\n",
       "      <td>59641.0</td>\n",
       "      <td>59641.0</td>\n",
       "    </tr>\n",
       "    <tr>\n",
       "      <th>2</th>\n",
       "      <td>2011</td>\n",
       "      <td>324</td>\n",
       "      <td>Adirondack Medical Center-Saranac Lake Site</td>\n",
       "      <td>24</td>\n",
       "      <td>2</td>\n",
       "      <td>Extracranial Vascular Procedures</td>\n",
       "      <td>Moderate</td>\n",
       "      <td>P</td>\n",
       "      <td>Surgical</td>\n",
       "      <td>6</td>\n",
       "      <td>14172.0</td>\n",
       "      <td>13506.0</td>\n",
       "      <td>6888.0</td>\n",
       "      <td>6445.0</td>\n",
       "    </tr>\n",
       "    <tr>\n",
       "      <th>3</th>\n",
       "      <td>2011</td>\n",
       "      <td>324</td>\n",
       "      <td>Adirondack Medical Center-Saranac Lake Site</td>\n",
       "      <td>26</td>\n",
       "      <td>1</td>\n",
       "      <td>Other Nervous System &amp; Related Procedures</td>\n",
       "      <td>Minor</td>\n",
       "      <td>P</td>\n",
       "      <td>Surgical</td>\n",
       "      <td>1</td>\n",
       "      <td>8833.0</td>\n",
       "      <td>8833.0</td>\n",
       "      <td>4259.0</td>\n",
       "      <td>4259.0</td>\n",
       "    </tr>\n",
       "    <tr>\n",
       "      <th>4</th>\n",
       "      <td>2011</td>\n",
       "      <td>324</td>\n",
       "      <td>Adirondack Medical Center-Saranac Lake Site</td>\n",
       "      <td>41</td>\n",
       "      <td>1</td>\n",
       "      <td>Nervous System Malignancy</td>\n",
       "      <td>Minor</td>\n",
       "      <td>M</td>\n",
       "      <td>Medical</td>\n",
       "      <td>1</td>\n",
       "      <td>5264.0</td>\n",
       "      <td>5264.0</td>\n",
       "      <td>1727.0</td>\n",
       "      <td>1727.0</td>\n",
       "    </tr>\n",
       "  </tbody>\n",
       "</table>\n",
       "</div>"
      ],
      "text/plain": [
       "   Year  Facility Id                                Facility Name  \\\n",
       "0  2011          324  Adirondack Medical Center-Saranac Lake Site   \n",
       "1  2011          324  Adirondack Medical Center-Saranac Lake Site   \n",
       "2  2011          324  Adirondack Medical Center-Saranac Lake Site   \n",
       "3  2011          324  Adirondack Medical Center-Saranac Lake Site   \n",
       "4  2011          324  Adirondack Medical Center-Saranac Lake Site   \n",
       "\n",
       "   APR DRG Code  APR Severity of Illness Code  \\\n",
       "0             4                             4   \n",
       "1             5                             4   \n",
       "2            24                             2   \n",
       "3            26                             1   \n",
       "4            41                             1   \n",
       "\n",
       "                                 APR DRG Description  \\\n",
       "0  Tracheostomy W MV 96+ Hours W Extensive Proced...   \n",
       "1  Tracheostomy W MV 96+ Hours W/O Extensive Proc...   \n",
       "2                   Extracranial Vascular Procedures   \n",
       "3          Other Nervous System & Related Procedures   \n",
       "4                          Nervous System Malignancy   \n",
       "\n",
       "  APR Severity of Illness Description APR Medical Surgical Code  \\\n",
       "0                             Extreme                         P   \n",
       "1                             Extreme                         P   \n",
       "2                            Moderate                         P   \n",
       "3                               Minor                         P   \n",
       "4                               Minor                         M   \n",
       "\n",
       "  APR Medical Surgical Description  Discharges  Mean Charge  Median Charge  \\\n",
       "0                         Surgical           3     361289.0       210882.0   \n",
       "1                         Surgical           1     102190.0       102190.0   \n",
       "2                         Surgical           6      14172.0        13506.0   \n",
       "3                         Surgical           1       8833.0         8833.0   \n",
       "4                          Medical           1       5264.0         5264.0   \n",
       "\n",
       "   Mean Cost  Median Cost  \n",
       "0   196080.0     123347.0  \n",
       "1    59641.0      59641.0  \n",
       "2     6888.0       6445.0  \n",
       "3     4259.0       4259.0  \n",
       "4     1727.0       1727.0  "
      ]
     },
     "execution_count": 115,
     "metadata": {},
     "output_type": "execute_result"
    }
   ],
   "source": [
    "df.head()"
   ]
  },
  {
   "cell_type": "code",
   "execution_count": 116,
   "metadata": {},
   "outputs": [
    {
     "data": {
      "text/html": [
       "<div>\n",
       "<style>\n",
       "    .dataframe thead tr:only-child th {\n",
       "        text-align: right;\n",
       "    }\n",
       "\n",
       "    .dataframe thead th {\n",
       "        text-align: left;\n",
       "    }\n",
       "\n",
       "    .dataframe tbody tr th {\n",
       "        vertical-align: top;\n",
       "    }\n",
       "</style>\n",
       "<table border=\"1\" class=\"dataframe\">\n",
       "  <thead>\n",
       "    <tr style=\"text-align: right;\">\n",
       "      <th></th>\n",
       "      <th>Year</th>\n",
       "      <th>Facility Id</th>\n",
       "      <th>APR DRG Code</th>\n",
       "      <th>APR Severity of Illness Code</th>\n",
       "      <th>Discharges</th>\n",
       "      <th>Mean Charge</th>\n",
       "      <th>Median Charge</th>\n",
       "      <th>Mean Cost</th>\n",
       "      <th>Median Cost</th>\n",
       "    </tr>\n",
       "  </thead>\n",
       "  <tbody>\n",
       "    <tr>\n",
       "      <th>count</th>\n",
       "      <td>383493.000000</td>\n",
       "      <td>383493.000000</td>\n",
       "      <td>383493.000000</td>\n",
       "      <td>383493.000000</td>\n",
       "      <td>383493.000000</td>\n",
       "      <td>3.834930e+05</td>\n",
       "      <td>3.834930e+05</td>\n",
       "      <td>3.834930e+05</td>\n",
       "      <td>3.834930e+05</td>\n",
       "    </tr>\n",
       "    <tr>\n",
       "      <th>mean</th>\n",
       "      <td>2009.992096</td>\n",
       "      <td>931.197406</td>\n",
       "      <td>375.874013</td>\n",
       "      <td>2.338846</td>\n",
       "      <td>20.514742</td>\n",
       "      <td>4.057436e+04</td>\n",
       "      <td>3.718595e+04</td>\n",
       "      <td>1.683462e+04</td>\n",
       "      <td>1.527954e+04</td>\n",
       "    </tr>\n",
       "    <tr>\n",
       "      <th>std</th>\n",
       "      <td>0.816167</td>\n",
       "      <td>633.379977</td>\n",
       "      <td>246.981328</td>\n",
       "      <td>1.042050</td>\n",
       "      <td>79.758116</td>\n",
       "      <td>6.591054e+04</td>\n",
       "      <td>6.261059e+04</td>\n",
       "      <td>2.952751e+04</td>\n",
       "      <td>2.782836e+04</td>\n",
       "    </tr>\n",
       "    <tr>\n",
       "      <th>min</th>\n",
       "      <td>2009.000000</td>\n",
       "      <td>1.000000</td>\n",
       "      <td>1.000000</td>\n",
       "      <td>0.000000</td>\n",
       "      <td>1.000000</td>\n",
       "      <td>8.000000e+00</td>\n",
       "      <td>8.000000e+00</td>\n",
       "      <td>2.000000e+00</td>\n",
       "      <td>2.000000e+00</td>\n",
       "    </tr>\n",
       "    <tr>\n",
       "      <th>25%</th>\n",
       "      <td>2009.000000</td>\n",
       "      <td>511.000000</td>\n",
       "      <td>192.000000</td>\n",
       "      <td>1.000000</td>\n",
       "      <td>2.000000</td>\n",
       "      <td>1.180900e+04</td>\n",
       "      <td>1.062500e+04</td>\n",
       "      <td>4.995000e+03</td>\n",
       "      <td>4.457000e+03</td>\n",
       "    </tr>\n",
       "    <tr>\n",
       "      <th>50%</th>\n",
       "      <td>2010.000000</td>\n",
       "      <td>889.000000</td>\n",
       "      <td>313.000000</td>\n",
       "      <td>2.000000</td>\n",
       "      <td>5.000000</td>\n",
       "      <td>2.219100e+04</td>\n",
       "      <td>1.994200e+04</td>\n",
       "      <td>8.900000e+03</td>\n",
       "      <td>7.860000e+03</td>\n",
       "    </tr>\n",
       "    <tr>\n",
       "      <th>75%</th>\n",
       "      <td>2011.000000</td>\n",
       "      <td>1306.000000</td>\n",
       "      <td>546.000000</td>\n",
       "      <td>3.000000</td>\n",
       "      <td>16.000000</td>\n",
       "      <td>4.393600e+04</td>\n",
       "      <td>3.971000e+04</td>\n",
       "      <td>1.775800e+04</td>\n",
       "      <td>1.587700e+04</td>\n",
       "    </tr>\n",
       "    <tr>\n",
       "      <th>max</th>\n",
       "      <td>2011.000000</td>\n",
       "      <td>9250.000000</td>\n",
       "      <td>956.000000</td>\n",
       "      <td>4.000000</td>\n",
       "      <td>6342.000000</td>\n",
       "      <td>4.736482e+06</td>\n",
       "      <td>4.736482e+06</td>\n",
       "      <td>2.395947e+06</td>\n",
       "      <td>2.395947e+06</td>\n",
       "    </tr>\n",
       "  </tbody>\n",
       "</table>\n",
       "</div>"
      ],
      "text/plain": [
       "                Year    Facility Id   APR DRG Code  \\\n",
       "count  383493.000000  383493.000000  383493.000000   \n",
       "mean     2009.992096     931.197406     375.874013   \n",
       "std         0.816167     633.379977     246.981328   \n",
       "min      2009.000000       1.000000       1.000000   \n",
       "25%      2009.000000     511.000000     192.000000   \n",
       "50%      2010.000000     889.000000     313.000000   \n",
       "75%      2011.000000    1306.000000     546.000000   \n",
       "max      2011.000000    9250.000000     956.000000   \n",
       "\n",
       "       APR Severity of Illness Code     Discharges   Mean Charge  \\\n",
       "count                 383493.000000  383493.000000  3.834930e+05   \n",
       "mean                       2.338846      20.514742  4.057436e+04   \n",
       "std                        1.042050      79.758116  6.591054e+04   \n",
       "min                        0.000000       1.000000  8.000000e+00   \n",
       "25%                        1.000000       2.000000  1.180900e+04   \n",
       "50%                        2.000000       5.000000  2.219100e+04   \n",
       "75%                        3.000000      16.000000  4.393600e+04   \n",
       "max                        4.000000    6342.000000  4.736482e+06   \n",
       "\n",
       "       Median Charge     Mean Cost   Median Cost  \n",
       "count   3.834930e+05  3.834930e+05  3.834930e+05  \n",
       "mean    3.718595e+04  1.683462e+04  1.527954e+04  \n",
       "std     6.261059e+04  2.952751e+04  2.782836e+04  \n",
       "min     8.000000e+00  2.000000e+00  2.000000e+00  \n",
       "25%     1.062500e+04  4.995000e+03  4.457000e+03  \n",
       "50%     1.994200e+04  8.900000e+03  7.860000e+03  \n",
       "75%     3.971000e+04  1.775800e+04  1.587700e+04  \n",
       "max     4.736482e+06  2.395947e+06  2.395947e+06  "
      ]
     },
     "execution_count": 116,
     "metadata": {},
     "output_type": "execute_result"
    }
   ],
   "source": [
    "df.describe()"
   ]
  },
  {
   "cell_type": "code",
   "execution_count": 117,
   "metadata": {},
   "outputs": [
    {
     "name": "stdout",
     "output_type": "stream",
     "text": [
      "<class 'pandas.core.frame.DataFrame'>\n",
      "RangeIndex: 383493 entries, 0 to 383492\n",
      "Data columns (total 14 columns):\n",
      "Year                                   383493 non-null int64\n",
      "Facility Id                            383493 non-null int64\n",
      "Facility Name                          383493 non-null object\n",
      "APR DRG Code                           383493 non-null int64\n",
      "APR Severity of Illness Code           383493 non-null int64\n",
      "APR DRG Description                    383493 non-null object\n",
      "APR Severity of Illness Description    383329 non-null object\n",
      "APR Medical Surgical Code              383329 non-null object\n",
      "APR Medical Surgical Description       383493 non-null object\n",
      "Discharges                             383493 non-null int64\n",
      "Mean Charge                            383493 non-null float64\n",
      "Median Charge                          383493 non-null float64\n",
      "Mean Cost                              383493 non-null float64\n",
      "Median Cost                            383493 non-null float64\n",
      "dtypes: float64(4), int64(5), object(5)\n",
      "memory usage: 41.0+ MB\n"
     ]
    }
   ],
   "source": [
    "df.info()"
   ]
  },
  {
   "cell_type": "markdown",
   "metadata": {},
   "source": [
    "***1. Create a new column \"Total Charges\" using \"Discharges\" and \"Mean Charge\".***"
   ]
  },
  {
   "cell_type": "code",
   "execution_count": 118,
   "metadata": {},
   "outputs": [
    {
     "data": {
      "text/plain": [
       "0    3\n",
       "1    1\n",
       "2    6\n",
       "3    1\n",
       "4    1\n",
       "Name: Discharges, dtype: int64"
      ]
     },
     "execution_count": 118,
     "metadata": {},
     "output_type": "execute_result"
    }
   ],
   "source": [
    "df.Discharges.head() #discharges = charge / cost"
   ]
  },
  {
   "cell_type": "code",
   "execution_count": 119,
   "metadata": {},
   "outputs": [
    {
     "data": {
      "text/plain": [
       "0    361289.0\n",
       "1    102190.0\n",
       "2     14172.0\n",
       "3      8833.0\n",
       "4      5264.0\n",
       "Name: Mean Charge, dtype: float64"
      ]
     },
     "execution_count": 119,
     "metadata": {},
     "output_type": "execute_result"
    }
   ],
   "source": [
    "df['Mean Charge'].head()"
   ]
  },
  {
   "cell_type": "code",
   "execution_count": 120,
   "metadata": {},
   "outputs": [],
   "source": [
    "df['Total Charge'] = df['Discharges'] * df['Mean Charge']"
   ]
  },
  {
   "cell_type": "code",
   "execution_count": 121,
   "metadata": {},
   "outputs": [
    {
     "data": {
      "text/plain": [
       "0    1083867.0\n",
       "1     102190.0\n",
       "2      85032.0\n",
       "3       8833.0\n",
       "4       5264.0\n",
       "Name: Total Charge, dtype: float64"
      ]
     },
     "execution_count": 121,
     "metadata": {},
     "output_type": "execute_result"
    }
   ],
   "source": [
    "df['Total Charge'].head()"
   ]
  },
  {
   "cell_type": "markdown",
   "metadata": {},
   "source": [
    "***2.Do the same for the \"Total Costs\" using \"Mean Cost\".***"
   ]
  },
  {
   "cell_type": "code",
   "execution_count": 122,
   "metadata": {},
   "outputs": [],
   "source": [
    "df['Total Cost'] = df['Discharges'] * df['Mean Cost']"
   ]
  },
  {
   "cell_type": "markdown",
   "metadata": {},
   "source": [
    "***3.With these two new \"Total Charges\" and \"Total Costs\" columns, calculate the charges to costs \"markup\" rate.***"
   ]
  },
  {
   "cell_type": "code",
   "execution_count": 123,
   "metadata": {},
   "outputs": [],
   "source": [
    "df['Markup'] = df['Mean Charge'] / df['Mean Cost']"
   ]
  },
  {
   "cell_type": "code",
   "execution_count": 124,
   "metadata": {},
   "outputs": [
    {
     "data": {
      "text/plain": [
       "0    1.842559\n",
       "1    1.713419\n",
       "2    2.057491\n",
       "3    2.073961\n",
       "4    3.048060\n",
       "Name: Markup, dtype: float64"
      ]
     },
     "execution_count": 124,
     "metadata": {},
     "output_type": "execute_result"
    }
   ],
   "source": [
    "df.Markup.head()"
   ]
  },
  {
   "cell_type": "markdown",
   "metadata": {},
   "source": [
    "***4.Tell me which facility has the highest \"markup\" rate, and which one has the lowest \"markup\" rate. (It's always good to do a sanity check, do these results make sense to you?)***"
   ]
  },
  {
   "cell_type": "code",
   "execution_count": 125,
   "metadata": {},
   "outputs": [],
   "source": [
    "markups = df.sort_values(by='Markup', ascending=False)\n",
    "\n",
    "markups = markups[['Facility Name', 'APR DRG Description',\n",
    "    'Total Charge', 'Total Cost', 'Markup']]"
   ]
  },
  {
   "cell_type": "code",
   "execution_count": 126,
   "metadata": {},
   "outputs": [
    {
     "data": {
      "text/html": [
       "<div>\n",
       "<style>\n",
       "    .dataframe thead tr:only-child th {\n",
       "        text-align: right;\n",
       "    }\n",
       "\n",
       "    .dataframe thead th {\n",
       "        text-align: left;\n",
       "    }\n",
       "\n",
       "    .dataframe tbody tr th {\n",
       "        vertical-align: top;\n",
       "    }\n",
       "</style>\n",
       "<table border=\"1\" class=\"dataframe\">\n",
       "  <thead>\n",
       "    <tr style=\"text-align: right;\">\n",
       "      <th></th>\n",
       "      <th>Facility Name</th>\n",
       "      <th>APR DRG Description</th>\n",
       "      <th>Total Charge</th>\n",
       "      <th>Total Cost</th>\n",
       "      <th>Markup</th>\n",
       "    </tr>\n",
       "  </thead>\n",
       "  <tbody>\n",
       "    <tr>\n",
       "      <th>111925</th>\n",
       "      <td>SUNY Downstate Medical Center at LICH</td>\n",
       "      <td>Neonate Bwt 1500-1999G W Or W/O Other Signific...</td>\n",
       "      <td>43088.0</td>\n",
       "      <td>2068.0</td>\n",
       "      <td>20.83559</td>\n",
       "    </tr>\n",
       "  </tbody>\n",
       "</table>\n",
       "</div>"
      ],
      "text/plain": [
       "                                Facility Name  \\\n",
       "111925  SUNY Downstate Medical Center at LICH   \n",
       "\n",
       "                                      APR DRG Description  Total Charge  \\\n",
       "111925  Neonate Bwt 1500-1999G W Or W/O Other Signific...       43088.0   \n",
       "\n",
       "        Total Cost    Markup  \n",
       "111925      2068.0  20.83559  "
      ]
     },
     "execution_count": 126,
     "metadata": {},
     "output_type": "execute_result"
    }
   ],
   "source": [
    "markups.head(1)"
   ]
  },
  {
   "cell_type": "code",
   "execution_count": 127,
   "metadata": {},
   "outputs": [
    {
     "data": {
      "text/html": [
       "<div>\n",
       "<style>\n",
       "    .dataframe thead tr:only-child th {\n",
       "        text-align: right;\n",
       "    }\n",
       "\n",
       "    .dataframe thead th {\n",
       "        text-align: left;\n",
       "    }\n",
       "\n",
       "    .dataframe tbody tr th {\n",
       "        vertical-align: top;\n",
       "    }\n",
       "</style>\n",
       "<table border=\"1\" class=\"dataframe\">\n",
       "  <thead>\n",
       "    <tr style=\"text-align: right;\">\n",
       "      <th></th>\n",
       "      <th>Facility Name</th>\n",
       "      <th>APR DRG Description</th>\n",
       "      <th>Total Charge</th>\n",
       "      <th>Total Cost</th>\n",
       "      <th>Markup</th>\n",
       "    </tr>\n",
       "  </thead>\n",
       "  <tbody>\n",
       "    <tr>\n",
       "      <th>370760</th>\n",
       "      <td>TLC Health Network Tri-County Memorial Hospital</td>\n",
       "      <td>Alcohol &amp; Drug Dependence W Rehab Or Rehab/Det...</td>\n",
       "      <td>1540540.0</td>\n",
       "      <td>97482510.0</td>\n",
       "      <td>0.015803</td>\n",
       "    </tr>\n",
       "  </tbody>\n",
       "</table>\n",
       "</div>"
      ],
      "text/plain": [
       "                                          Facility Name  \\\n",
       "370760  TLC Health Network Tri-County Memorial Hospital   \n",
       "\n",
       "                                      APR DRG Description  Total Charge  \\\n",
       "370760  Alcohol & Drug Dependence W Rehab Or Rehab/Det...     1540540.0   \n",
       "\n",
       "        Total Cost    Markup  \n",
       "370760  97482510.0  0.015803  "
      ]
     },
     "execution_count": 127,
     "metadata": {},
     "output_type": "execute_result"
    }
   ],
   "source": [
    "markups.tail(1)"
   ]
  },
  {
   "cell_type": "markdown",
   "metadata": {},
   "source": [
    "Bonus: What if we want to look at procedures with the highest and lowest averaged markup across facilities?"
   ]
  },
  {
   "cell_type": "code",
   "execution_count": 128,
   "metadata": {},
   "outputs": [],
   "source": [
    "test = df.groupby('Facility Name').mean()"
   ]
  },
  {
   "cell_type": "code",
   "execution_count": 129,
   "metadata": {},
   "outputs": [
    {
     "data": {
      "text/html": [
       "<div>\n",
       "<style>\n",
       "    .dataframe thead tr:only-child th {\n",
       "        text-align: right;\n",
       "    }\n",
       "\n",
       "    .dataframe thead th {\n",
       "        text-align: left;\n",
       "    }\n",
       "\n",
       "    .dataframe tbody tr th {\n",
       "        vertical-align: top;\n",
       "    }\n",
       "</style>\n",
       "<table border=\"1\" class=\"dataframe\">\n",
       "  <thead>\n",
       "    <tr style=\"text-align: right;\">\n",
       "      <th></th>\n",
       "      <th>Year</th>\n",
       "      <th>Facility Id</th>\n",
       "      <th>APR DRG Code</th>\n",
       "      <th>APR Severity of Illness Code</th>\n",
       "      <th>Discharges</th>\n",
       "      <th>Mean Charge</th>\n",
       "      <th>Median Charge</th>\n",
       "      <th>Mean Cost</th>\n",
       "      <th>Median Cost</th>\n",
       "      <th>Total Charge</th>\n",
       "      <th>Total Cost</th>\n",
       "      <th>Markup</th>\n",
       "    </tr>\n",
       "    <tr>\n",
       "      <th>Facility Name</th>\n",
       "      <th></th>\n",
       "      <th></th>\n",
       "      <th></th>\n",
       "      <th></th>\n",
       "      <th></th>\n",
       "      <th></th>\n",
       "      <th></th>\n",
       "      <th></th>\n",
       "      <th></th>\n",
       "      <th></th>\n",
       "      <th></th>\n",
       "      <th></th>\n",
       "    </tr>\n",
       "  </thead>\n",
       "  <tbody>\n",
       "    <tr>\n",
       "      <th>Adirondack Medical Center-Saranac Lake Site</th>\n",
       "      <td>2009.990579</td>\n",
       "      <td>324.0</td>\n",
       "      <td>366.404441</td>\n",
       "      <td>2.253701</td>\n",
       "      <td>6.127187</td>\n",
       "      <td>18744.461642</td>\n",
       "      <td>17897.343876</td>\n",
       "      <td>9967.238896</td>\n",
       "      <td>9496.32638</td>\n",
       "      <td>95271.533647</td>\n",
       "      <td>52104.753701</td>\n",
       "      <td>1.943545</td>\n",
       "    </tr>\n",
       "  </tbody>\n",
       "</table>\n",
       "</div>"
      ],
      "text/plain": [
       "                                                    Year  Facility Id  \\\n",
       "Facility Name                                                           \n",
       "Adirondack Medical Center-Saranac Lake Site  2009.990579        324.0   \n",
       "\n",
       "                                             APR DRG Code  \\\n",
       "Facility Name                                               \n",
       "Adirondack Medical Center-Saranac Lake Site    366.404441   \n",
       "\n",
       "                                             APR Severity of Illness Code  \\\n",
       "Facility Name                                                               \n",
       "Adirondack Medical Center-Saranac Lake Site                      2.253701   \n",
       "\n",
       "                                             Discharges   Mean Charge  \\\n",
       "Facility Name                                                           \n",
       "Adirondack Medical Center-Saranac Lake Site    6.127187  18744.461642   \n",
       "\n",
       "                                             Median Charge    Mean Cost  \\\n",
       "Facility Name                                                             \n",
       "Adirondack Medical Center-Saranac Lake Site   17897.343876  9967.238896   \n",
       "\n",
       "                                             Median Cost  Total Charge  \\\n",
       "Facility Name                                                            \n",
       "Adirondack Medical Center-Saranac Lake Site   9496.32638  95271.533647   \n",
       "\n",
       "                                               Total Cost    Markup  \n",
       "Facility Name                                                        \n",
       "Adirondack Medical Center-Saranac Lake Site  52104.753701  1.943545  "
      ]
     },
     "execution_count": 129,
     "metadata": {},
     "output_type": "execute_result"
    }
   ],
   "source": [
    "test.head(1)"
   ]
  },
  {
   "cell_type": "code",
   "execution_count": 130,
   "metadata": {},
   "outputs": [],
   "source": [
    "markups = (df.groupby('Facility Name').mean()\n",
    "   .sort_values(by='Markup', ascending=False))"
   ]
  },
  {
   "cell_type": "code",
   "execution_count": 131,
   "metadata": {},
   "outputs": [
    {
     "data": {
      "text/html": [
       "<div>\n",
       "<style>\n",
       "    .dataframe thead tr:only-child th {\n",
       "        text-align: right;\n",
       "    }\n",
       "\n",
       "    .dataframe thead th {\n",
       "        text-align: left;\n",
       "    }\n",
       "\n",
       "    .dataframe tbody tr th {\n",
       "        vertical-align: top;\n",
       "    }\n",
       "</style>\n",
       "<table border=\"1\" class=\"dataframe\">\n",
       "  <thead>\n",
       "    <tr style=\"text-align: right;\">\n",
       "      <th></th>\n",
       "      <th>Year</th>\n",
       "      <th>Facility Id</th>\n",
       "      <th>APR DRG Code</th>\n",
       "      <th>APR Severity of Illness Code</th>\n",
       "      <th>Discharges</th>\n",
       "      <th>Mean Charge</th>\n",
       "      <th>Median Charge</th>\n",
       "      <th>Mean Cost</th>\n",
       "      <th>Median Cost</th>\n",
       "      <th>Total Charge</th>\n",
       "      <th>Total Cost</th>\n",
       "      <th>Markup</th>\n",
       "    </tr>\n",
       "    <tr>\n",
       "      <th>Facility Name</th>\n",
       "      <th></th>\n",
       "      <th></th>\n",
       "      <th></th>\n",
       "      <th></th>\n",
       "      <th></th>\n",
       "      <th></th>\n",
       "      <th></th>\n",
       "      <th></th>\n",
       "      <th></th>\n",
       "      <th></th>\n",
       "      <th></th>\n",
       "      <th></th>\n",
       "    </tr>\n",
       "  </thead>\n",
       "  <tbody>\n",
       "    <tr>\n",
       "      <th>Lenox Hill Hospital</th>\n",
       "      <td>2010.001391</td>\n",
       "      <td>1450.0</td>\n",
       "      <td>377.785814</td>\n",
       "      <td>2.379346</td>\n",
       "      <td>32.439499</td>\n",
       "      <td>110780.640821</td>\n",
       "      <td>100378.734701</td>\n",
       "      <td>25108.503477</td>\n",
       "      <td>22646.033727</td>\n",
       "      <td>1.825032e+06</td>\n",
       "      <td>511554.031989</td>\n",
       "      <td>5.526728</td>\n",
       "    </tr>\n",
       "  </tbody>\n",
       "</table>\n",
       "</div>"
      ],
      "text/plain": [
       "                            Year  Facility Id  APR DRG Code  \\\n",
       "Facility Name                                                 \n",
       "Lenox Hill Hospital  2010.001391       1450.0    377.785814   \n",
       "\n",
       "                     APR Severity of Illness Code  Discharges    Mean Charge  \\\n",
       "Facility Name                                                                  \n",
       "Lenox Hill Hospital                      2.379346   32.439499  110780.640821   \n",
       "\n",
       "                     Median Charge     Mean Cost   Median Cost  Total Charge  \\\n",
       "Facility Name                                                                  \n",
       "Lenox Hill Hospital  100378.734701  25108.503477  22646.033727  1.825032e+06   \n",
       "\n",
       "                        Total Cost    Markup  \n",
       "Facility Name                                 \n",
       "Lenox Hill Hospital  511554.031989  5.526728  "
      ]
     },
     "execution_count": 131,
     "metadata": {},
     "output_type": "execute_result"
    }
   ],
   "source": [
    "markups.head(1)"
   ]
  },
  {
   "cell_type": "code",
   "execution_count": 132,
   "metadata": {},
   "outputs": [
    {
     "data": {
      "text/html": [
       "<div>\n",
       "<style>\n",
       "    .dataframe thead tr:only-child th {\n",
       "        text-align: right;\n",
       "    }\n",
       "\n",
       "    .dataframe thead th {\n",
       "        text-align: left;\n",
       "    }\n",
       "\n",
       "    .dataframe tbody tr th {\n",
       "        vertical-align: top;\n",
       "    }\n",
       "</style>\n",
       "<table border=\"1\" class=\"dataframe\">\n",
       "  <thead>\n",
       "    <tr style=\"text-align: right;\">\n",
       "      <th></th>\n",
       "      <th>Year</th>\n",
       "      <th>Facility Id</th>\n",
       "      <th>APR DRG Code</th>\n",
       "      <th>APR Severity of Illness Code</th>\n",
       "      <th>Discharges</th>\n",
       "      <th>Mean Charge</th>\n",
       "      <th>Median Charge</th>\n",
       "      <th>Mean Cost</th>\n",
       "      <th>Median Cost</th>\n",
       "      <th>Total Charge</th>\n",
       "      <th>Total Cost</th>\n",
       "      <th>Markup</th>\n",
       "    </tr>\n",
       "    <tr>\n",
       "      <th>Facility Name</th>\n",
       "      <th></th>\n",
       "      <th></th>\n",
       "      <th></th>\n",
       "      <th></th>\n",
       "      <th></th>\n",
       "      <th></th>\n",
       "      <th></th>\n",
       "      <th></th>\n",
       "      <th></th>\n",
       "      <th></th>\n",
       "      <th></th>\n",
       "      <th></th>\n",
       "    </tr>\n",
       "  </thead>\n",
       "  <tbody>\n",
       "    <tr>\n",
       "      <th>Rockefeller University Hospital</th>\n",
       "      <td>2009.846154</td>\n",
       "      <td>1465.0</td>\n",
       "      <td>509.384615</td>\n",
       "      <td>1.076923</td>\n",
       "      <td>4.076923</td>\n",
       "      <td>20880.230769</td>\n",
       "      <td>23052.076923</td>\n",
       "      <td>56156.923077</td>\n",
       "      <td>61997.692308</td>\n",
       "      <td>144946.538462</td>\n",
       "      <td>389833.692308</td>\n",
       "      <td>0.371829</td>\n",
       "    </tr>\n",
       "  </tbody>\n",
       "</table>\n",
       "</div>"
      ],
      "text/plain": [
       "                                        Year  Facility Id  APR DRG Code  \\\n",
       "Facility Name                                                             \n",
       "Rockefeller University Hospital  2009.846154       1465.0    509.384615   \n",
       "\n",
       "                                 APR Severity of Illness Code  Discharges  \\\n",
       "Facility Name                                                               \n",
       "Rockefeller University Hospital                      1.076923    4.076923   \n",
       "\n",
       "                                  Mean Charge  Median Charge     Mean Cost  \\\n",
       "Facility Name                                                                \n",
       "Rockefeller University Hospital  20880.230769   23052.076923  56156.923077   \n",
       "\n",
       "                                  Median Cost   Total Charge     Total Cost  \\\n",
       "Facility Name                                                                 \n",
       "Rockefeller University Hospital  61997.692308  144946.538462  389833.692308   \n",
       "\n",
       "                                   Markup  \n",
       "Facility Name                              \n",
       "Rockefeller University Hospital  0.371829  "
      ]
     },
     "execution_count": 132,
     "metadata": {},
     "output_type": "execute_result"
    }
   ],
   "source": [
    "markups.tail(1)"
   ]
  },
  {
   "cell_type": "markdown",
   "metadata": {},
   "source": [
    "***I wonder what everyone is going to the hospital for... Use a groupby method on the Description column and sum the Discharges.What are the top 10 reasons people are going to the hospital for, and how many people did they see.***"
   ]
  },
  {
   "cell_type": "code",
   "execution_count": 133,
   "metadata": {},
   "outputs": [
    {
     "data": {
      "text/html": [
       "<div>\n",
       "<style>\n",
       "    .dataframe thead tr:only-child th {\n",
       "        text-align: right;\n",
       "    }\n",
       "\n",
       "    .dataframe thead th {\n",
       "        text-align: left;\n",
       "    }\n",
       "\n",
       "    .dataframe tbody tr th {\n",
       "        vertical-align: top;\n",
       "    }\n",
       "</style>\n",
       "<table border=\"1\" class=\"dataframe\">\n",
       "  <thead>\n",
       "    <tr style=\"text-align: right;\">\n",
       "      <th></th>\n",
       "      <th>Discharges</th>\n",
       "    </tr>\n",
       "    <tr>\n",
       "      <th>APR DRG Description</th>\n",
       "      <th></th>\n",
       "    </tr>\n",
       "  </thead>\n",
       "  <tbody>\n",
       "    <tr>\n",
       "      <th>Neonate Birthwt &gt;2499G, Normal Newborn Or Neonate W Other Problem</th>\n",
       "      <td>632412</td>\n",
       "    </tr>\n",
       "    <tr>\n",
       "      <th>Vaginal Delivery</th>\n",
       "      <td>458034</td>\n",
       "    </tr>\n",
       "    <tr>\n",
       "      <th>Cesarean Delivery</th>\n",
       "      <td>245265</td>\n",
       "    </tr>\n",
       "    <tr>\n",
       "      <th>Heart Failure</th>\n",
       "      <td>173826</td>\n",
       "    </tr>\n",
       "    <tr>\n",
       "      <th>Other Pneumonia</th>\n",
       "      <td>162344</td>\n",
       "    </tr>\n",
       "    <tr>\n",
       "      <th>Septicemia &amp; Disseminated Infections</th>\n",
       "      <td>161739</td>\n",
       "    </tr>\n",
       "    <tr>\n",
       "      <th>Chronic Obstructive Pulmonary Disease</th>\n",
       "      <td>146461</td>\n",
       "    </tr>\n",
       "    <tr>\n",
       "      <th>Cellulitis &amp; Other Bacterial Skin Infections</th>\n",
       "      <td>124617</td>\n",
       "    </tr>\n",
       "    <tr>\n",
       "      <th>Cardiac Arrhythmia &amp; Conduction Disorders</th>\n",
       "      <td>121042</td>\n",
       "    </tr>\n",
       "    <tr>\n",
       "      <th>Chest Pain</th>\n",
       "      <td>117630</td>\n",
       "    </tr>\n",
       "  </tbody>\n",
       "</table>\n",
       "</div>"
      ],
      "text/plain": [
       "                                                    Discharges\n",
       "APR DRG Description                                           \n",
       "Neonate Birthwt >2499G, Normal Newborn Or Neona...      632412\n",
       "Vaginal Delivery                                        458034\n",
       "Cesarean Delivery                                       245265\n",
       "Heart Failure                                           173826\n",
       "Other Pneumonia                                         162344\n",
       "Septicemia & Disseminated Infections                    161739\n",
       "Chronic Obstructive Pulmonary Disease                   146461\n",
       "Cellulitis & Other Bacterial Skin Infections            124617\n",
       "Cardiac Arrhythmia & Conduction Disorders               121042\n",
       "Chest Pain                                              117630"
      ]
     },
     "execution_count": 133,
     "metadata": {},
     "output_type": "execute_result"
    }
   ],
   "source": [
    "(df[['APR DRG Description', 'Discharges']].groupby('APR DRG Description')\n",
    "    .sum()\n",
    "    .sort_values(by='Discharges', ascending=False)\n",
    "    .head(10))"
   ]
  },
  {
   "cell_type": "markdown",
   "metadata": {},
   "source": [
    "### Now, let's follow the money..."
   ]
  },
  {
   "cell_type": "markdown",
   "metadata": {},
   "source": [
    "Now we want to see which hospital has the most money coming. To keep this from getting messy, lets create a new DataFrame with only the columns we care about."
   ]
  },
  {
   "cell_type": "markdown",
   "metadata": {},
   "source": [
    "***1.Create a new DataFrame named \"net\" that is only the Facility Name, Total Charge, Total Cost from our original DataFrame***"
   ]
  },
  {
   "cell_type": "code",
   "execution_count": 134,
   "metadata": {},
   "outputs": [
    {
     "data": {
      "text/plain": [
       "Index(['Year', 'Facility Id', 'Facility Name', 'APR DRG Code',\n",
       "       'APR Severity of Illness Code', 'APR DRG Description',\n",
       "       'APR Severity of Illness Description', 'APR Medical Surgical Code',\n",
       "       'APR Medical Surgical Description', 'Discharges', 'Mean Charge',\n",
       "       'Median Charge', 'Mean Cost', 'Median Cost', 'Total Charge',\n",
       "       'Total Cost', 'Markup'],\n",
       "      dtype='object')"
      ]
     },
     "execution_count": 134,
     "metadata": {},
     "output_type": "execute_result"
    }
   ],
   "source": [
    "df.columns"
   ]
  },
  {
   "cell_type": "code",
   "execution_count": 135,
   "metadata": {},
   "outputs": [],
   "source": [
    "net = df[['Facility Name','Total Charge','Total Cost']]"
   ]
  },
  {
   "cell_type": "code",
   "execution_count": 136,
   "metadata": {},
   "outputs": [
    {
     "data": {
      "text/html": [
       "<div>\n",
       "<style>\n",
       "    .dataframe thead tr:only-child th {\n",
       "        text-align: right;\n",
       "    }\n",
       "\n",
       "    .dataframe thead th {\n",
       "        text-align: left;\n",
       "    }\n",
       "\n",
       "    .dataframe tbody tr th {\n",
       "        vertical-align: top;\n",
       "    }\n",
       "</style>\n",
       "<table border=\"1\" class=\"dataframe\">\n",
       "  <thead>\n",
       "    <tr style=\"text-align: right;\">\n",
       "      <th></th>\n",
       "      <th>Facility Name</th>\n",
       "      <th>Total Charge</th>\n",
       "      <th>Total Cost</th>\n",
       "    </tr>\n",
       "  </thead>\n",
       "  <tbody>\n",
       "    <tr>\n",
       "      <th>0</th>\n",
       "      <td>Adirondack Medical Center-Saranac Lake Site</td>\n",
       "      <td>1083867.0</td>\n",
       "      <td>588240.0</td>\n",
       "    </tr>\n",
       "    <tr>\n",
       "      <th>1</th>\n",
       "      <td>Adirondack Medical Center-Saranac Lake Site</td>\n",
       "      <td>102190.0</td>\n",
       "      <td>59641.0</td>\n",
       "    </tr>\n",
       "    <tr>\n",
       "      <th>2</th>\n",
       "      <td>Adirondack Medical Center-Saranac Lake Site</td>\n",
       "      <td>85032.0</td>\n",
       "      <td>41328.0</td>\n",
       "    </tr>\n",
       "    <tr>\n",
       "      <th>3</th>\n",
       "      <td>Adirondack Medical Center-Saranac Lake Site</td>\n",
       "      <td>8833.0</td>\n",
       "      <td>4259.0</td>\n",
       "    </tr>\n",
       "    <tr>\n",
       "      <th>4</th>\n",
       "      <td>Adirondack Medical Center-Saranac Lake Site</td>\n",
       "      <td>5264.0</td>\n",
       "      <td>1727.0</td>\n",
       "    </tr>\n",
       "  </tbody>\n",
       "</table>\n",
       "</div>"
      ],
      "text/plain": [
       "                                 Facility Name  Total Charge  Total Cost\n",
       "0  Adirondack Medical Center-Saranac Lake Site     1083867.0    588240.0\n",
       "1  Adirondack Medical Center-Saranac Lake Site      102190.0     59641.0\n",
       "2  Adirondack Medical Center-Saranac Lake Site       85032.0     41328.0\n",
       "3  Adirondack Medical Center-Saranac Lake Site        8833.0      4259.0\n",
       "4  Adirondack Medical Center-Saranac Lake Site        5264.0      1727.0"
      ]
     },
     "execution_count": 136,
     "metadata": {},
     "output_type": "execute_result"
    }
   ],
   "source": [
    "net.head()"
   ]
  },
  {
   "cell_type": "markdown",
   "metadata": {},
   "source": [
    "***2.Find the total amount each hospital spent, and how much they charged. (Group your data by Facility names, and sum all the total costs and total charges)***"
   ]
  },
  {
   "cell_type": "code",
   "execution_count": 137,
   "metadata": {},
   "outputs": [],
   "source": [
    "net = net.groupby('Facility Name').sum()"
   ]
  },
  {
   "cell_type": "code",
   "execution_count": 138,
   "metadata": {},
   "outputs": [
    {
     "data": {
      "text/html": [
       "<div>\n",
       "<style>\n",
       "    .dataframe thead tr:only-child th {\n",
       "        text-align: right;\n",
       "    }\n",
       "\n",
       "    .dataframe thead th {\n",
       "        text-align: left;\n",
       "    }\n",
       "\n",
       "    .dataframe tbody tr th {\n",
       "        vertical-align: top;\n",
       "    }\n",
       "</style>\n",
       "<table border=\"1\" class=\"dataframe\">\n",
       "  <thead>\n",
       "    <tr style=\"text-align: right;\">\n",
       "      <th></th>\n",
       "      <th>Total Charge</th>\n",
       "      <th>Total Cost</th>\n",
       "    </tr>\n",
       "    <tr>\n",
       "      <th>Facility Name</th>\n",
       "      <th></th>\n",
       "      <th></th>\n",
       "    </tr>\n",
       "  </thead>\n",
       "  <tbody>\n",
       "    <tr>\n",
       "      <th>Adirondack Medical Center-Saranac Lake Site</th>\n",
       "      <td>1.415735e+08</td>\n",
       "      <td>7.742766e+07</td>\n",
       "    </tr>\n",
       "    <tr>\n",
       "      <th>Albany Medical Center - South Clinical Campus</th>\n",
       "      <td>1.802808e+06</td>\n",
       "      <td>1.432784e+06</td>\n",
       "    </tr>\n",
       "    <tr>\n",
       "      <th>Albany Medical Center Hospital</th>\n",
       "      <td>3.763945e+09</td>\n",
       "      <td>1.336299e+09</td>\n",
       "    </tr>\n",
       "    <tr>\n",
       "      <th>Albany Memorial Hospital</th>\n",
       "      <td>2.219740e+08</td>\n",
       "      <td>9.490717e+07</td>\n",
       "    </tr>\n",
       "    <tr>\n",
       "      <th>Alice Hyde Medical Center</th>\n",
       "      <td>8.723797e+07</td>\n",
       "      <td>4.105882e+07</td>\n",
       "    </tr>\n",
       "  </tbody>\n",
       "</table>\n",
       "</div>"
      ],
      "text/plain": [
       "                                               Total Charge    Total Cost\n",
       "Facility Name                                                            \n",
       "Adirondack Medical Center-Saranac Lake Site    1.415735e+08  7.742766e+07\n",
       "Albany Medical Center - South Clinical Campus  1.802808e+06  1.432784e+06\n",
       "Albany Medical Center Hospital                 3.763945e+09  1.336299e+09\n",
       "Albany Memorial Hospital                       2.219740e+08  9.490717e+07\n",
       "Alice Hyde Medical Center                      8.723797e+07  4.105882e+07"
      ]
     },
     "execution_count": 138,
     "metadata": {},
     "output_type": "execute_result"
    }
   ],
   "source": [
    "net.head()"
   ]
  },
  {
   "cell_type": "code",
   "execution_count": 139,
   "metadata": {},
   "outputs": [],
   "source": [
    "net['net_income'] = net['Total Charge'] - net['Total Cost']"
   ]
  },
  {
   "cell_type": "code",
   "execution_count": 140,
   "metadata": {},
   "outputs": [
    {
     "data": {
      "text/html": [
       "<div>\n",
       "<style>\n",
       "    .dataframe thead tr:only-child th {\n",
       "        text-align: right;\n",
       "    }\n",
       "\n",
       "    .dataframe thead th {\n",
       "        text-align: left;\n",
       "    }\n",
       "\n",
       "    .dataframe tbody tr th {\n",
       "        vertical-align: top;\n",
       "    }\n",
       "</style>\n",
       "<table border=\"1\" class=\"dataframe\">\n",
       "  <thead>\n",
       "    <tr style=\"text-align: right;\">\n",
       "      <th></th>\n",
       "      <th>Total Charge</th>\n",
       "      <th>Total Cost</th>\n",
       "      <th>net_income</th>\n",
       "    </tr>\n",
       "    <tr>\n",
       "      <th>Facility Name</th>\n",
       "      <th></th>\n",
       "      <th></th>\n",
       "      <th></th>\n",
       "    </tr>\n",
       "  </thead>\n",
       "  <tbody>\n",
       "    <tr>\n",
       "      <th>North Shore University Hospital</th>\n",
       "      <td>7.984556e+09</td>\n",
       "      <td>1.933824e+09</td>\n",
       "      <td>6.050732e+09</td>\n",
       "    </tr>\n",
       "    <tr>\n",
       "      <th>New York Presbyterian Hospital - Columbia Presbyterian Center</th>\n",
       "      <td>8.884406e+09</td>\n",
       "      <td>3.278723e+09</td>\n",
       "      <td>5.605683e+09</td>\n",
       "    </tr>\n",
       "    <tr>\n",
       "      <th>New York Presbyterian Hospital - New York Weill Cornell Center</th>\n",
       "      <td>6.889940e+09</td>\n",
       "      <td>2.543192e+09</td>\n",
       "      <td>4.346747e+09</td>\n",
       "    </tr>\n",
       "    <tr>\n",
       "      <th>Mount Sinai Hospital</th>\n",
       "      <td>7.321689e+09</td>\n",
       "      <td>3.069224e+09</td>\n",
       "      <td>4.252465e+09</td>\n",
       "    </tr>\n",
       "    <tr>\n",
       "      <th>Westchester Medical Center</th>\n",
       "      <td>6.095486e+09</td>\n",
       "      <td>2.047654e+09</td>\n",
       "      <td>4.047832e+09</td>\n",
       "    </tr>\n",
       "  </tbody>\n",
       "</table>\n",
       "</div>"
      ],
      "text/plain": [
       "                                                    Total Charge  \\\n",
       "Facility Name                                                      \n",
       "North Shore University Hospital                     7.984556e+09   \n",
       "New York Presbyterian Hospital - Columbia Presb...  8.884406e+09   \n",
       "New York Presbyterian Hospital - New York Weill...  6.889940e+09   \n",
       "Mount Sinai Hospital                                7.321689e+09   \n",
       "Westchester Medical Center                          6.095486e+09   \n",
       "\n",
       "                                                      Total Cost    net_income  \n",
       "Facility Name                                                                   \n",
       "North Shore University Hospital                     1.933824e+09  6.050732e+09  \n",
       "New York Presbyterian Hospital - Columbia Presb...  3.278723e+09  5.605683e+09  \n",
       "New York Presbyterian Hospital - New York Weill...  2.543192e+09  4.346747e+09  \n",
       "Mount Sinai Hospital                                3.069224e+09  4.252465e+09  \n",
       "Westchester Medical Center                          2.047654e+09  4.047832e+09  "
      ]
     },
     "execution_count": 140,
     "metadata": {},
     "output_type": "execute_result"
    }
   ],
   "source": [
    "net.sort_values(by= 'net_income',ascending = False).head()"
   ]
  },
  {
   "cell_type": "code",
   "execution_count": 141,
   "metadata": {},
   "outputs": [
    {
     "data": {
      "text/html": [
       "<div>\n",
       "<style>\n",
       "    .dataframe thead tr:only-child th {\n",
       "        text-align: right;\n",
       "    }\n",
       "\n",
       "    .dataframe thead th {\n",
       "        text-align: left;\n",
       "    }\n",
       "\n",
       "    .dataframe tbody tr th {\n",
       "        vertical-align: top;\n",
       "    }\n",
       "</style>\n",
       "<table border=\"1\" class=\"dataframe\">\n",
       "  <thead>\n",
       "    <tr style=\"text-align: right;\">\n",
       "      <th></th>\n",
       "      <th>Total Charge</th>\n",
       "      <th>Total Cost</th>\n",
       "      <th>net_income</th>\n",
       "    </tr>\n",
       "    <tr>\n",
       "      <th>Facility Name</th>\n",
       "      <th></th>\n",
       "      <th></th>\n",
       "      <th></th>\n",
       "    </tr>\n",
       "  </thead>\n",
       "  <tbody>\n",
       "    <tr>\n",
       "      <th>River Hospital, Inc.</th>\n",
       "      <td>2175391.0</td>\n",
       "      <td>3497205.0</td>\n",
       "      <td>-1321814.0</td>\n",
       "    </tr>\n",
       "    <tr>\n",
       "      <th>Rockefeller University Hospital</th>\n",
       "      <td>1884305.0</td>\n",
       "      <td>5067838.0</td>\n",
       "      <td>-3183533.0</td>\n",
       "    </tr>\n",
       "    <tr>\n",
       "      <th>Elizabethtown Community Hospital</th>\n",
       "      <td>8988443.0</td>\n",
       "      <td>12516017.0</td>\n",
       "      <td>-3527574.0</td>\n",
       "    </tr>\n",
       "    <tr>\n",
       "      <th>Catskill Regional Medical Center - G. Hermann Site</th>\n",
       "      <td>4670920.0</td>\n",
       "      <td>8332317.0</td>\n",
       "      <td>-3661397.0</td>\n",
       "    </tr>\n",
       "    <tr>\n",
       "      <th>TLC Health Network Tri-County Memorial Hospital</th>\n",
       "      <td>4212448.0</td>\n",
       "      <td>199028516.0</td>\n",
       "      <td>-194816068.0</td>\n",
       "    </tr>\n",
       "  </tbody>\n",
       "</table>\n",
       "</div>"
      ],
      "text/plain": [
       "                                                    Total Charge   Total Cost  \\\n",
       "Facility Name                                                                   \n",
       "River Hospital, Inc.                                   2175391.0    3497205.0   \n",
       "Rockefeller University Hospital                        1884305.0    5067838.0   \n",
       "Elizabethtown Community Hospital                       8988443.0   12516017.0   \n",
       "Catskill Regional Medical Center - G. Hermann Site     4670920.0    8332317.0   \n",
       "TLC Health Network Tri-County Memorial Hospital        4212448.0  199028516.0   \n",
       "\n",
       "                                                     net_income  \n",
       "Facility Name                                                    \n",
       "River Hospital, Inc.                                 -1321814.0  \n",
       "Rockefeller University Hospital                      -3183533.0  \n",
       "Elizabethtown Community Hospital                     -3527574.0  \n",
       "Catskill Regional Medical Center - G. Hermann Site   -3661397.0  \n",
       "TLC Health Network Tri-County Memorial Hospital    -194816068.0  "
      ]
     },
     "execution_count": 141,
     "metadata": {},
     "output_type": "execute_result"
    }
   ],
   "source": [
    "net.sort_values(by= 'net_income',ascending = False).tail()"
   ]
  },
  {
   "cell_type": "markdown",
   "metadata": {},
   "source": [
    "### Now, let's focus in on Viral Meningitis"
   ]
  },
  {
   "cell_type": "markdown",
   "metadata": {},
   "source": [
    "***1. Create a new dataframe that only contains the data corresponding to Viral Meningitis***"
   ]
  },
  {
   "cell_type": "code",
   "execution_count": 142,
   "metadata": {},
   "outputs": [],
   "source": [
    "df_menen = df[df['APR DRG Description'] == \"Viral Meningitis\"]"
   ]
  },
  {
   "cell_type": "markdown",
   "metadata": {},
   "source": [
    "***2.Now, with our new dataframe, only keep the data columns we care about which are***"
   ]
  },
  {
   "cell_type": "code",
   "execution_count": 144,
   "metadata": {},
   "outputs": [],
   "source": [
    "df_menen = df_menen[[\"Facility Name\", \"APR DRG Description\",\n",
    "                     \"APR Severity of Illness Description\",\"Discharges\", \n",
    "                     \"Mean Charge\", \"Median Charge\", \"Mean Cost\"]]"
   ]
  },
  {
   "cell_type": "markdown",
   "metadata": {},
   "source": [
    "***3.Find which hospital is the least expensive (based on \"Mean Charge\") for treating Moderate cases of VM. [note example below is the most expensive not the least]***"
   ]
  },
  {
   "cell_type": "code",
   "execution_count": 145,
   "metadata": {},
   "outputs": [
    {
     "data": {
      "text/plain": [
       "1179.0"
      ]
     },
     "execution_count": 145,
     "metadata": {},
     "output_type": "execute_result"
    }
   ],
   "source": [
    "df_menen['Mean Charge'].min()"
   ]
  },
  {
   "cell_type": "code",
   "execution_count": 146,
   "metadata": {},
   "outputs": [
    {
     "data": {
      "text/plain": [
       "449628.0"
      ]
     },
     "execution_count": 146,
     "metadata": {},
     "output_type": "execute_result"
    }
   ],
   "source": [
    "max(df_menen['Mean Charge'])"
   ]
  },
  {
   "cell_type": "markdown",
   "metadata": {},
   "source": [
    "***First way, stating several conditions at the same time and combining them with & or |***"
   ]
  },
  {
   "cell_type": "code",
   "execution_count": 147,
   "metadata": {},
   "outputs": [
    {
     "data": {
      "text/html": [
       "<div>\n",
       "<style>\n",
       "    .dataframe thead tr:only-child th {\n",
       "        text-align: right;\n",
       "    }\n",
       "\n",
       "    .dataframe thead th {\n",
       "        text-align: left;\n",
       "    }\n",
       "\n",
       "    .dataframe tbody tr th {\n",
       "        vertical-align: top;\n",
       "    }\n",
       "</style>\n",
       "<table border=\"1\" class=\"dataframe\">\n",
       "  <thead>\n",
       "    <tr style=\"text-align: right;\">\n",
       "      <th></th>\n",
       "      <th>Facility Name</th>\n",
       "      <th>APR DRG Description</th>\n",
       "      <th>APR Severity of Illness Description</th>\n",
       "      <th>Discharges</th>\n",
       "      <th>Mean Charge</th>\n",
       "      <th>Median Charge</th>\n",
       "      <th>Mean Cost</th>\n",
       "    </tr>\n",
       "  </thead>\n",
       "  <tbody>\n",
       "    <tr>\n",
       "      <th>258259</th>\n",
       "      <td>Aurelia Osborn Fox Memorial Hospital</td>\n",
       "      <td>Viral Meningitis</td>\n",
       "      <td>Moderate</td>\n",
       "      <td>1</td>\n",
       "      <td>1179.0</td>\n",
       "      <td>1179.0</td>\n",
       "      <td>1040.0</td>\n",
       "    </tr>\n",
       "  </tbody>\n",
       "</table>\n",
       "</div>"
      ],
      "text/plain": [
       "                               Facility Name APR DRG Description  \\\n",
       "258259  Aurelia Osborn Fox Memorial Hospital    Viral Meningitis   \n",
       "\n",
       "       APR Severity of Illness Description  Discharges  Mean Charge  \\\n",
       "258259                            Moderate           1       1179.0   \n",
       "\n",
       "        Median Charge  Mean Cost  \n",
       "258259         1179.0     1040.0  "
      ]
     },
     "execution_count": 147,
     "metadata": {},
     "output_type": "execute_result"
    }
   ],
   "source": [
    "df_menen[(df_menen['APR Severity of Illness Description'] == 'Moderate') & (df_menen['Mean Charge'] == min(df_menen['Mean Charge']))]"
   ]
  },
  {
   "cell_type": "markdown",
   "metadata": {},
   "source": [
    "***Second Way***"
   ]
  },
  {
   "cell_type": "code",
   "execution_count": 148,
   "metadata": {},
   "outputs": [
    {
     "data": {
      "text/html": [
       "<div>\n",
       "<style>\n",
       "    .dataframe thead tr:only-child th {\n",
       "        text-align: right;\n",
       "    }\n",
       "\n",
       "    .dataframe thead th {\n",
       "        text-align: left;\n",
       "    }\n",
       "\n",
       "    .dataframe tbody tr th {\n",
       "        vertical-align: top;\n",
       "    }\n",
       "</style>\n",
       "<table border=\"1\" class=\"dataframe\">\n",
       "  <thead>\n",
       "    <tr style=\"text-align: right;\">\n",
       "      <th></th>\n",
       "      <th>Facility Name</th>\n",
       "      <th>Mean Charge</th>\n",
       "    </tr>\n",
       "  </thead>\n",
       "  <tbody>\n",
       "    <tr>\n",
       "      <th>258259</th>\n",
       "      <td>Aurelia Osborn Fox Memorial Hospital</td>\n",
       "      <td>1179.0</td>\n",
       "    </tr>\n",
       "  </tbody>\n",
       "</table>\n",
       "</div>"
      ],
      "text/plain": [
       "                               Facility Name  Mean Charge\n",
       "258259  Aurelia Osborn Fox Memorial Hospital       1179.0"
      ]
     },
     "execution_count": 148,
     "metadata": {},
     "output_type": "execute_result"
    }
   ],
   "source": [
    "moderate = df_menen[df_menen['APR Severity of Illness Description'] == 'Moderate']\n",
    "\n",
    "(moderate[['Facility Name', 'Mean Charge']]\n",
    "    .sort_values(by='Mean Charge', ascending=True).head(1))"
   ]
  },
  {
   "cell_type": "markdown",
   "metadata": {},
   "source": [
    "***3.Find which hospital is the least expensive for treating Moderate cases of VM that have more than 3 Discharges.***"
   ]
  },
  {
   "cell_type": "code",
   "execution_count": 149,
   "metadata": {},
   "outputs": [
    {
     "data": {
      "text/html": [
       "<div>\n",
       "<style>\n",
       "    .dataframe thead tr:only-child th {\n",
       "        text-align: right;\n",
       "    }\n",
       "\n",
       "    .dataframe thead th {\n",
       "        text-align: left;\n",
       "    }\n",
       "\n",
       "    .dataframe tbody tr th {\n",
       "        vertical-align: top;\n",
       "    }\n",
       "</style>\n",
       "<table border=\"1\" class=\"dataframe\">\n",
       "  <thead>\n",
       "    <tr style=\"text-align: right;\">\n",
       "      <th></th>\n",
       "      <th>Facility Name</th>\n",
       "      <th>APR DRG Description</th>\n",
       "      <th>APR Severity of Illness Description</th>\n",
       "      <th>Discharges</th>\n",
       "      <th>Mean Charge</th>\n",
       "      <th>Median Charge</th>\n",
       "      <th>Mean Cost</th>\n",
       "    </tr>\n",
       "  </thead>\n",
       "  <tbody>\n",
       "    <tr>\n",
       "      <th>14426</th>\n",
       "      <td>Cayuga Medical Center at Ithaca</td>\n",
       "      <td>Viral Meningitis</td>\n",
       "      <td>Moderate</td>\n",
       "      <td>6</td>\n",
       "      <td>5738.0</td>\n",
       "      <td>5111.0</td>\n",
       "      <td>3949.0</td>\n",
       "    </tr>\n",
       "  </tbody>\n",
       "</table>\n",
       "</div>"
      ],
      "text/plain": [
       "                         Facility Name APR DRG Description  \\\n",
       "14426  Cayuga Medical Center at Ithaca    Viral Meningitis   \n",
       "\n",
       "      APR Severity of Illness Description  Discharges  Mean Charge  \\\n",
       "14426                            Moderate           6       5738.0   \n",
       "\n",
       "       Median Charge  Mean Cost  \n",
       "14426         5111.0     3949.0  "
      ]
     },
     "execution_count": 149,
     "metadata": {},
     "output_type": "execute_result"
    }
   ],
   "source": [
    "df_menen[(df_menen['APR Severity of Illness Description'] == 'Moderate') \n",
    "   &\n",
    "   (df_menen['Discharges'] >= 3 )].sort_values(by='Mean Charge', ascending=True).head(1)\n",
    "   "
   ]
  },
  {
   "cell_type": "markdown",
   "metadata": {},
   "source": [
    "***OR***"
   ]
  },
  {
   "cell_type": "code",
   "execution_count": 150,
   "metadata": {},
   "outputs": [
    {
     "data": {
      "text/html": [
       "<div>\n",
       "<style>\n",
       "    .dataframe thead tr:only-child th {\n",
       "        text-align: right;\n",
       "    }\n",
       "\n",
       "    .dataframe thead th {\n",
       "        text-align: left;\n",
       "    }\n",
       "\n",
       "    .dataframe tbody tr th {\n",
       "        vertical-align: top;\n",
       "    }\n",
       "</style>\n",
       "<table border=\"1\" class=\"dataframe\">\n",
       "  <thead>\n",
       "    <tr style=\"text-align: right;\">\n",
       "      <th></th>\n",
       "      <th>Facility Name</th>\n",
       "      <th>Discharges</th>\n",
       "      <th>Mean Charge</th>\n",
       "    </tr>\n",
       "  </thead>\n",
       "  <tbody>\n",
       "    <tr>\n",
       "      <th>14426</th>\n",
       "      <td>Cayuga Medical Center at Ithaca</td>\n",
       "      <td>6</td>\n",
       "      <td>5738.0</td>\n",
       "    </tr>\n",
       "  </tbody>\n",
       "</table>\n",
       "</div>"
      ],
      "text/plain": [
       "                         Facility Name  Discharges  Mean Charge\n",
       "14426  Cayuga Medical Center at Ithaca           6       5738.0"
      ]
     },
     "execution_count": 150,
     "metadata": {},
     "output_type": "execute_result"
    }
   ],
   "source": [
    "threeOrMore = moderate[moderate['Discharges'] >= 3]\n",
    "\n",
    "(threeOrMore[['Facility Name', 'Discharges', 'Mean Charge']]\n",
    "    .sort_values(by='Mean Charge', ascending=True)).head(1)"
   ]
  },
  {
   "cell_type": "markdown",
   "metadata": {},
   "source": [
    "***5.Find which hospital discharges the most cases of Viral Meningitis for all levels of severity.***"
   ]
  },
  {
   "cell_type": "code",
   "execution_count": 152,
   "metadata": {},
   "outputs": [
    {
     "data": {
      "text/html": [
       "<div>\n",
       "<style>\n",
       "    .dataframe thead tr:only-child th {\n",
       "        text-align: right;\n",
       "    }\n",
       "\n",
       "    .dataframe thead th {\n",
       "        text-align: left;\n",
       "    }\n",
       "\n",
       "    .dataframe tbody tr th {\n",
       "        vertical-align: top;\n",
       "    }\n",
       "</style>\n",
       "<table border=\"1\" class=\"dataframe\">\n",
       "  <thead>\n",
       "    <tr style=\"text-align: right;\">\n",
       "      <th></th>\n",
       "      <th>Discharges</th>\n",
       "    </tr>\n",
       "    <tr>\n",
       "      <th>Facility Name</th>\n",
       "      <th></th>\n",
       "    </tr>\n",
       "  </thead>\n",
       "  <tbody>\n",
       "    <tr>\n",
       "      <th>North Shore University Hospital</th>\n",
       "      <td>158</td>\n",
       "    </tr>\n",
       "  </tbody>\n",
       "</table>\n",
       "</div>"
      ],
      "text/plain": [
       "                                 Discharges\n",
       "Facility Name                              \n",
       "North Shore University Hospital         158"
      ]
     },
     "execution_count": 152,
     "metadata": {},
     "output_type": "execute_result"
    }
   ],
   "source": [
    "# Step 1. Group all (Viral Meningitis) discharges for each hospital\n",
    "group = df_menen[['Facility Name', 'Discharges']].groupby('Facility Name').sum()\n",
    "\n",
    "# Step 2. Which hospiptals discharge the most?\n",
    "group.sort_values(by='Discharges', ascending=False).head(1)"
   ]
  },
  {
   "cell_type": "code",
   "execution_count": 153,
   "metadata": {},
   "outputs": [
    {
     "data": {
      "text/html": [
       "<div>\n",
       "<style>\n",
       "    .dataframe thead tr:only-child th {\n",
       "        text-align: right;\n",
       "    }\n",
       "\n",
       "    .dataframe thead th {\n",
       "        text-align: left;\n",
       "    }\n",
       "\n",
       "    .dataframe tbody tr th {\n",
       "        vertical-align: top;\n",
       "    }\n",
       "</style>\n",
       "<table border=\"1\" class=\"dataframe\">\n",
       "  <thead>\n",
       "    <tr style=\"text-align: right;\">\n",
       "      <th></th>\n",
       "      <th>Discharges</th>\n",
       "    </tr>\n",
       "    <tr>\n",
       "      <th>Facility Name</th>\n",
       "      <th></th>\n",
       "    </tr>\n",
       "  </thead>\n",
       "  <tbody>\n",
       "    <tr>\n",
       "      <th>Adirondack Medical Center-Saranac Lake Site</th>\n",
       "      <td>3</td>\n",
       "    </tr>\n",
       "    <tr>\n",
       "      <th>Albany Medical Center Hospital</th>\n",
       "      <td>96</td>\n",
       "    </tr>\n",
       "    <tr>\n",
       "      <th>Albany Memorial Hospital</th>\n",
       "      <td>7</td>\n",
       "    </tr>\n",
       "  </tbody>\n",
       "</table>\n",
       "</div>"
      ],
      "text/plain": [
       "                                             Discharges\n",
       "Facility Name                                          \n",
       "Adirondack Medical Center-Saranac Lake Site           3\n",
       "Albany Medical Center Hospital                       96\n",
       "Albany Memorial Hospital                              7"
      ]
     },
     "execution_count": 153,
     "metadata": {},
     "output_type": "execute_result"
    }
   ],
   "source": [
    "group.head(3)"
   ]
  },
  {
   "cell_type": "markdown",
   "metadata": {},
   "source": [
    "***6.Find if there is a correlation between the severity of illness and the charge.***"
   ]
  },
  {
   "cell_type": "code",
   "execution_count": 158,
   "metadata": {},
   "outputs": [
    {
     "data": {
      "text/plain": [
       "<matplotlib.axes._subplots.AxesSubplot at 0x11d98bbe0>"
      ]
     },
     "execution_count": 158,
     "metadata": {},
     "output_type": "execute_result"
    },
    {
     "data": {
      "image/png": "[encoded data removed]",
      "text/plain": [
       "<Figure size 432x288 with 1 Axes>"
      ]
     },
     "metadata": {
      "needs_background": "light"
     },
     "output_type": "display_data"
    }
   ],
   "source": [
    "df_menen.boxplot('Mean Charge', by='APR Severity of Illness Description')"
   ]
  },
  {
   "cell_type": "markdown",
   "metadata": {},
   "source": [
    "The correlation is therefore positive.\n",
    "\n",
    "I wonder if the result is same when we inclde all of the illnesses."
   ]
  },
  {
   "cell_type": "code",
   "execution_count": 159,
   "metadata": {},
   "outputs": [
    {
     "data": {
      "text/plain": [
       "<matplotlib.axes._subplots.AxesSubplot at 0x116245630>"
      ]
     },
     "execution_count": 159,
     "metadata": {},
     "output_type": "execute_result"
    },
    {
     "data": {
      "image/png": "[encoded data removed]",
      "text/plain": [
       "<Figure size 432x288 with 1 Axes>"
      ]
     },
     "metadata": {
      "needs_background": "light"
     },
     "output_type": "display_data"
    }
   ],
   "source": [
    "df.boxplot('Mean Charge', by='APR Severity of Illness Description')"
   ]
  },
  {
   "cell_type": "markdown",
   "metadata": {},
   "source": [
    "Yep this tells me that if I can be rich one day, I am more likely to survive an Extreme or Major illness. So I shall work hard:)"
   ]
  },
  {
   "cell_type": "markdown",
   "metadata": {},
   "source": [
    "***By default, the grouped columns (extreme, major, minor, and moderate) are sorted alphabetically. A better graph, would order the column by increased level of severity:***"
   ]
  },
  {
   "cell_type": "code",
   "execution_count": 106,
   "metadata": {},
   "outputs": [
    {
     "data": {
      "text/plain": [
       "<matplotlib.axes._subplots.AxesSubplot at 0x114227c88>"
      ]
     },
     "execution_count": 106,
     "metadata": {},
     "output_type": "execute_result"
    },
    {
     "data": {
      "image/png": "[encoded data removed]",
      "text/plain": [
       "<Figure size 432x288 with 1 Axes>"
      ]
     },
     "metadata": {
      "needs_background": "light"
     },
     "output_type": "display_data"
    }
   ],
   "source": [
    "severities = ['Minor', 'Moderate','Major','Extreme']\n",
    "\n",
    "pd.DataFrame({severity: df[df['APR Severity of Illness Description'] == severity]['Mean Charge'] for severity in severities},\n",
    "             columns = severities).boxplot(return_type='axes')"
   ]
  },
  {
   "cell_type": "markdown",
   "metadata": {},
   "source": [
    "***To calculate an actual value for the correlation, one would need to code these levels as numerics, e.g., as equally spaced integers of increasing values. Note that there is no justification for that particular encoding, making the correlation more dependent on this encoding than any reality of the population. You should then question the statistical meaningfulness of the value you would compute.***"
   ]
  },
  {
   "cell_type": "code",
   "execution_count": 160,
   "metadata": {},
   "outputs": [
    {
     "data": {
      "text/html": [
       "<div>\n",
       "<style>\n",
       "    .dataframe thead tr:only-child th {\n",
       "        text-align: right;\n",
       "    }\n",
       "\n",
       "    .dataframe thead th {\n",
       "        text-align: left;\n",
       "    }\n",
       "\n",
       "    .dataframe tbody tr th {\n",
       "        vertical-align: top;\n",
       "    }\n",
       "</style>\n",
       "<table border=\"1\" class=\"dataframe\">\n",
       "  <thead>\n",
       "    <tr style=\"text-align: right;\">\n",
       "      <th></th>\n",
       "      <th>APR Severity of Illness</th>\n",
       "      <th>Mean Charge</th>\n",
       "    </tr>\n",
       "  </thead>\n",
       "  <tbody>\n",
       "    <tr>\n",
       "      <th>APR Severity of Illness</th>\n",
       "      <td>1.000000</td>\n",
       "      <td>0.925377</td>\n",
       "    </tr>\n",
       "    <tr>\n",
       "      <th>Mean Charge</th>\n",
       "      <td>0.925377</td>\n",
       "      <td>1.000000</td>\n",
       "    </tr>\n",
       "  </tbody>\n",
       "</table>\n",
       "</div>"
      ],
      "text/plain": [
       "                         APR Severity of Illness  Mean Charge\n",
       "APR Severity of Illness                 1.000000     0.925377\n",
       "Mean Charge                             0.925377     1.000000"
      ]
     },
     "execution_count": 160,
     "metadata": {},
     "output_type": "execute_result"
    }
   ],
   "source": [
    "# Let's first calculate the mean charge per level of severity\n",
    "group = (df[['APR Severity of Illness Description', 'Mean Charge']]\n",
    "    .groupby('APR Severity of Illness Description').mean()\n",
    "    .reset_index())\n",
    "\n",
    "# Let's then rank order the severity level from minor to extreme\n",
    "group['APR Severity of Illness'] = (group['APR Severity of Illness Description']\n",
    "    .map({'Minor': 0, 'Moderate': 1, 'Major': 2, 'Extreme': 3}))\n",
    "\n",
    "group[['APR Severity of Illness', 'Mean Charge']].corr()"
   ]
  },
  {
   "cell_type": "markdown",
   "metadata": {},
   "source": [
    "### Which illness has the most discharges?\n",
    "\n",
    "(guess:)"
   ]
  },
  {
   "cell_type": "code",
   "execution_count": 162,
   "metadata": {},
   "outputs": [
    {
     "data": {
      "text/html": [
       "<div>\n",
       "<style>\n",
       "    .dataframe thead tr:only-child th {\n",
       "        text-align: right;\n",
       "    }\n",
       "\n",
       "    .dataframe thead th {\n",
       "        text-align: left;\n",
       "    }\n",
       "\n",
       "    .dataframe tbody tr th {\n",
       "        vertical-align: top;\n",
       "    }\n",
       "</style>\n",
       "<table border=\"1\" class=\"dataframe\">\n",
       "  <thead>\n",
       "    <tr style=\"text-align: right;\">\n",
       "      <th></th>\n",
       "      <th></th>\n",
       "      <th>Discharges</th>\n",
       "    </tr>\n",
       "    <tr>\n",
       "      <th>APR DRG Description</th>\n",
       "      <th>APR Severity of Illness Description</th>\n",
       "      <th></th>\n",
       "    </tr>\n",
       "  </thead>\n",
       "  <tbody>\n",
       "    <tr>\n",
       "      <th>Neonate Birthwt &gt;2499G, Normal Newborn Or Neonate W Other Problem</th>\n",
       "      <th>Minor</th>\n",
       "      <td>528921</td>\n",
       "    </tr>\n",
       "    <tr>\n",
       "      <th>Vaginal Delivery</th>\n",
       "      <th>Minor</th>\n",
       "      <td>291174</td>\n",
       "    </tr>\n",
       "    <tr>\n",
       "      <th>Cesarean Delivery</th>\n",
       "      <th>Minor</th>\n",
       "      <td>163204</td>\n",
       "    </tr>\n",
       "    <tr>\n",
       "      <th>Vaginal Delivery</th>\n",
       "      <th>Moderate</th>\n",
       "      <td>142273</td>\n",
       "    </tr>\n",
       "    <tr>\n",
       "      <th>Neonate Birthwt &gt;2499G, Normal Newborn Or Neonate W Other Problem</th>\n",
       "      <th>Moderate</th>\n",
       "      <td>82090</td>\n",
       "    </tr>\n",
       "    <tr>\n",
       "      <th>Septicemia &amp; Disseminated Infections</th>\n",
       "      <th>Extreme</th>\n",
       "      <td>78903</td>\n",
       "    </tr>\n",
       "    <tr>\n",
       "      <th rowspan=\"2\" valign=\"top\">Heart Failure</th>\n",
       "      <th>Moderate</th>\n",
       "      <td>74713</td>\n",
       "    </tr>\n",
       "    <tr>\n",
       "      <th>Major</th>\n",
       "      <td>69610</td>\n",
       "    </tr>\n",
       "    <tr>\n",
       "      <th>Other Pneumonia</th>\n",
       "      <th>Moderate</th>\n",
       "      <td>65985</td>\n",
       "    </tr>\n",
       "    <tr>\n",
       "      <th>Chest Pain</th>\n",
       "      <th>Minor</th>\n",
       "      <td>65762</td>\n",
       "    </tr>\n",
       "    <tr>\n",
       "      <th>Schizophrenia</th>\n",
       "      <th>Moderate</th>\n",
       "      <td>63620</td>\n",
       "    </tr>\n",
       "    <tr>\n",
       "      <th>Renal Failure</th>\n",
       "      <th>Major</th>\n",
       "      <td>62506</td>\n",
       "    </tr>\n",
       "    <tr>\n",
       "      <th>Chronic Obstructive Pulmonary Disease</th>\n",
       "      <th>Moderate</th>\n",
       "      <td>61457</td>\n",
       "    </tr>\n",
       "    <tr>\n",
       "      <th>Cesarean Delivery</th>\n",
       "      <th>Moderate</th>\n",
       "      <td>60019</td>\n",
       "    </tr>\n",
       "    <tr>\n",
       "      <th>Septicemia &amp; Disseminated Infections</th>\n",
       "      <th>Major</th>\n",
       "      <td>56935</td>\n",
       "    </tr>\n",
       "    <tr>\n",
       "      <th>Other Pneumonia</th>\n",
       "      <th>Major</th>\n",
       "      <td>56447</td>\n",
       "    </tr>\n",
       "    <tr>\n",
       "      <th>Percutaneous Cardiovascular Procedures W/O Ami</th>\n",
       "      <th>Minor</th>\n",
       "      <td>54098</td>\n",
       "    </tr>\n",
       "    <tr>\n",
       "      <th>Major Depressive Disorders &amp; Other/Unspecified Psychoses</th>\n",
       "      <th>Moderate</th>\n",
       "      <td>53973</td>\n",
       "    </tr>\n",
       "    <tr>\n",
       "      <th>Bipolar Disorders</th>\n",
       "      <th>Moderate</th>\n",
       "      <td>52921</td>\n",
       "    </tr>\n",
       "    <tr>\n",
       "      <th>Chronic Obstructive Pulmonary Disease</th>\n",
       "      <th>Major</th>\n",
       "      <td>51690</td>\n",
       "    </tr>\n",
       "    <tr>\n",
       "      <th>Cellulitis &amp; Other Bacterial Skin Infections</th>\n",
       "      <th>Moderate</th>\n",
       "      <td>49802</td>\n",
       "    </tr>\n",
       "    <tr>\n",
       "      <th>Rehabilitation</th>\n",
       "      <th>Moderate</th>\n",
       "      <td>49042</td>\n",
       "    </tr>\n",
       "    <tr>\n",
       "      <th>Syncope &amp; Collapse</th>\n",
       "      <th>Moderate</th>\n",
       "      <td>48356</td>\n",
       "    </tr>\n",
       "    <tr>\n",
       "      <th>Cardiac Arrhythmia &amp; Conduction Disorders</th>\n",
       "      <th>Moderate</th>\n",
       "      <td>47258</td>\n",
       "    </tr>\n",
       "    <tr>\n",
       "      <th>Knee Joint Replacement</th>\n",
       "      <th>Moderate</th>\n",
       "      <td>47194</td>\n",
       "    </tr>\n",
       "    <tr>\n",
       "      <th>Cellulitis &amp; Other Bacterial Skin Infections</th>\n",
       "      <th>Minor</th>\n",
       "      <td>46468</td>\n",
       "    </tr>\n",
       "    <tr>\n",
       "      <th>Opioid Abuse &amp; Dependence</th>\n",
       "      <th>Moderate</th>\n",
       "      <td>45207</td>\n",
       "    </tr>\n",
       "    <tr>\n",
       "      <th>Kidney &amp; Urinary Tract Infections</th>\n",
       "      <th>Moderate</th>\n",
       "      <td>44714</td>\n",
       "    </tr>\n",
       "    <tr>\n",
       "      <th>Chest Pain</th>\n",
       "      <th>Moderate</th>\n",
       "      <td>43582</td>\n",
       "    </tr>\n",
       "    <tr>\n",
       "      <th>Asthma</th>\n",
       "      <th>Minor</th>\n",
       "      <td>42810</td>\n",
       "    </tr>\n",
       "    <tr>\n",
       "      <th>...</th>\n",
       "      <th>...</th>\n",
       "      <td>...</td>\n",
       "    </tr>\n",
       "    <tr>\n",
       "      <th>Tracheostomy W MV 96+ Hours W Extensive Procedure Or Ecmo</th>\n",
       "      <th>Minor</th>\n",
       "      <td>21</td>\n",
       "    </tr>\n",
       "    <tr>\n",
       "      <th>Orbital Procedures</th>\n",
       "      <th>Extreme</th>\n",
       "      <td>21</td>\n",
       "    </tr>\n",
       "    <tr>\n",
       "      <th>Female Reproductive System Reconstructive Procedures</th>\n",
       "      <th>Extreme</th>\n",
       "      <td>21</td>\n",
       "    </tr>\n",
       "    <tr>\n",
       "      <th>Neonate Birthwt &gt;2499G W Major Cardiovascular Procedure</th>\n",
       "      <th>Minor</th>\n",
       "      <td>21</td>\n",
       "    </tr>\n",
       "    <tr>\n",
       "      <th>Neonate Birthwt 1500-1999G W Congenital/Perinatal Infection</th>\n",
       "      <th>Extreme</th>\n",
       "      <td>21</td>\n",
       "    </tr>\n",
       "    <tr>\n",
       "      <th>Neonate Bwt 1500-1999G W Or W/O Other Significant Condition</th>\n",
       "      <th>Extreme</th>\n",
       "      <td>20</td>\n",
       "    </tr>\n",
       "    <tr>\n",
       "      <th>False Labor</th>\n",
       "      <th>Major</th>\n",
       "      <td>20</td>\n",
       "    </tr>\n",
       "    <tr>\n",
       "      <th>Mental Illness Diagnosis W O.R. Procedure</th>\n",
       "      <th>Extreme</th>\n",
       "      <td>19</td>\n",
       "    </tr>\n",
       "    <tr>\n",
       "      <th>Tracheostomy W MV 96+ Hours W/O Extensive Procedure</th>\n",
       "      <th>Minor</th>\n",
       "      <td>19</td>\n",
       "    </tr>\n",
       "    <tr>\n",
       "      <th>Neonate Birthwt 750-999G W/O Major Procedure</th>\n",
       "      <th>Minor</th>\n",
       "      <td>18</td>\n",
       "    </tr>\n",
       "    <tr>\n",
       "      <th>Neonate Bwt 2000-2499G W Other Significant Condition</th>\n",
       "      <th>Extreme</th>\n",
       "      <td>15</td>\n",
       "    </tr>\n",
       "    <tr>\n",
       "      <th>Alcohol &amp; Drug Dependence W Rehab Or Rehab/Detox Therapy</th>\n",
       "      <th>Extreme</th>\n",
       "      <td>15</td>\n",
       "    </tr>\n",
       "    <tr>\n",
       "      <th>Other Mental Health Disorders</th>\n",
       "      <th>Extreme</th>\n",
       "      <td>12</td>\n",
       "    </tr>\n",
       "    <tr>\n",
       "      <th>Neonate Bwt &lt;1500G W Major Procedure</th>\n",
       "      <th>Moderate</th>\n",
       "      <td>10</td>\n",
       "    </tr>\n",
       "    <tr>\n",
       "      <th>Neonate Bwt 2000-2499G W Congenital/Perinatal Infection</th>\n",
       "      <th>Extreme</th>\n",
       "      <td>9</td>\n",
       "    </tr>\n",
       "    <tr>\n",
       "      <th>Heart &amp;/Or Lung Transplant</th>\n",
       "      <th>Minor</th>\n",
       "      <td>8</td>\n",
       "    </tr>\n",
       "    <tr>\n",
       "      <th>Musculoskeletal &amp; Other Procedures For Multiple Significant Trauma</th>\n",
       "      <th>Minor</th>\n",
       "      <td>8</td>\n",
       "    </tr>\n",
       "    <tr>\n",
       "      <th>Adjustment Disorders &amp; Neuroses Except Depressive Diagnoses</th>\n",
       "      <th>Extreme</th>\n",
       "      <td>7</td>\n",
       "    </tr>\n",
       "    <tr>\n",
       "      <th>Childhood Behavioral Disorders</th>\n",
       "      <th>Extreme</th>\n",
       "      <td>7</td>\n",
       "    </tr>\n",
       "    <tr>\n",
       "      <th>Neonate Birthwt &gt;2499G, Normal Newborn Or Neonate W Other Problem</th>\n",
       "      <th>Extreme</th>\n",
       "      <td>7</td>\n",
       "    </tr>\n",
       "    <tr>\n",
       "      <th>Extensive Abdominal/Thoracic Procedures For Mult Significant Trauma</th>\n",
       "      <th>Minor</th>\n",
       "      <td>4</td>\n",
       "    </tr>\n",
       "    <tr>\n",
       "      <th>Cleft Lip &amp; Palate Repair</th>\n",
       "      <th>Extreme</th>\n",
       "      <td>4</td>\n",
       "    </tr>\n",
       "    <tr>\n",
       "      <th>Extensive 3Rd Degree Burns W Skin Graft</th>\n",
       "      <th>Moderate</th>\n",
       "      <td>3</td>\n",
       "    </tr>\n",
       "    <tr>\n",
       "      <th>Neonate Bwt 1500-2499G W Major Procedure</th>\n",
       "      <th>Minor</th>\n",
       "      <td>3</td>\n",
       "    </tr>\n",
       "    <tr>\n",
       "      <th>Neonate Bwt 2000-2499G, Normal Newborn Or Neonate W Other Problem</th>\n",
       "      <th>Extreme</th>\n",
       "      <td>2</td>\n",
       "    </tr>\n",
       "    <tr>\n",
       "      <th>Preterm Labor</th>\n",
       "      <th>Extreme</th>\n",
       "      <td>2</td>\n",
       "    </tr>\n",
       "    <tr>\n",
       "      <th>Extensive 3Rd Degree Burns W Skin Graft</th>\n",
       "      <th>Minor</th>\n",
       "      <td>2</td>\n",
       "    </tr>\n",
       "    <tr>\n",
       "      <th>Craniotomy For Multiple Significant Trauma</th>\n",
       "      <th>Minor</th>\n",
       "      <td>1</td>\n",
       "    </tr>\n",
       "    <tr>\n",
       "      <th>Neonate Bwt &lt;1500G W Major Procedure</th>\n",
       "      <th>Minor</th>\n",
       "      <td>1</td>\n",
       "    </tr>\n",
       "    <tr>\n",
       "      <th>Neonate W Ecmo</th>\n",
       "      <th>Moderate</th>\n",
       "      <td>1</td>\n",
       "    </tr>\n",
       "  </tbody>\n",
       "</table>\n",
       "<p>1247 rows × 1 columns</p>\n",
       "</div>"
      ],
      "text/plain": [
       "                                                                                        Discharges\n",
       "APR DRG Description                                APR Severity of Illness Description            \n",
       "Neonate Birthwt >2499G, Normal Newborn Or Neona... Minor                                    528921\n",
       "Vaginal Delivery                                   Minor                                    291174\n",
       "Cesarean Delivery                                  Minor                                    163204\n",
       "Vaginal Delivery                                   Moderate                                 142273\n",
       "Neonate Birthwt >2499G, Normal Newborn Or Neona... Moderate                                  82090\n",
       "Septicemia & Disseminated Infections               Extreme                                   78903\n",
       "Heart Failure                                      Moderate                                  74713\n",
       "                                                   Major                                     69610\n",
       "Other Pneumonia                                    Moderate                                  65985\n",
       "Chest Pain                                         Minor                                     65762\n",
       "Schizophrenia                                      Moderate                                  63620\n",
       "Renal Failure                                      Major                                     62506\n",
       "Chronic Obstructive Pulmonary Disease              Moderate                                  61457\n",
       "Cesarean Delivery                                  Moderate                                  60019\n",
       "Septicemia & Disseminated Infections               Major                                     56935\n",
       "Other Pneumonia                                    Major                                     56447\n",
       "Percutaneous Cardiovascular Procedures W/O Ami     Minor                                     54098\n",
       "Major Depressive Disorders & Other/Unspecified ... Moderate                                  53973\n",
       "Bipolar Disorders                                  Moderate                                  52921\n",
       "Chronic Obstructive Pulmonary Disease              Major                                     51690\n",
       "Cellulitis & Other Bacterial Skin Infections       Moderate                                  49802\n",
       "Rehabilitation                                     Moderate                                  49042\n",
       "Syncope & Collapse                                 Moderate                                  48356\n",
       "Cardiac Arrhythmia & Conduction Disorders          Moderate                                  47258\n",
       "Knee Joint Replacement                             Moderate                                  47194\n",
       "Cellulitis & Other Bacterial Skin Infections       Minor                                     46468\n",
       "Opioid Abuse & Dependence                          Moderate                                  45207\n",
       "Kidney & Urinary Tract Infections                  Moderate                                  44714\n",
       "Chest Pain                                         Moderate                                  43582\n",
       "Asthma                                             Minor                                     42810\n",
       "...                                                                                            ...\n",
       "Tracheostomy W MV 96+ Hours W Extensive Procedu... Minor                                        21\n",
       "Orbital Procedures                                 Extreme                                      21\n",
       "Female Reproductive System Reconstructive Proce... Extreme                                      21\n",
       "Neonate Birthwt >2499G W Major Cardiovascular P... Minor                                        21\n",
       "Neonate Birthwt 1500-1999G W Congenital/Perinat... Extreme                                      21\n",
       "Neonate Bwt 1500-1999G W Or W/O Other Significa... Extreme                                      20\n",
       "False Labor                                        Major                                        20\n",
       "Mental Illness Diagnosis W O.R. Procedure          Extreme                                      19\n",
       "Tracheostomy W MV 96+ Hours W/O Extensive Proce... Minor                                        19\n",
       "Neonate Birthwt 750-999G W/O Major Procedure       Minor                                        18\n",
       "Neonate Bwt 2000-2499G W Other Significant Cond... Extreme                                      15\n",
       "Alcohol & Drug Dependence W Rehab Or Rehab/Deto... Extreme                                      15\n",
       "Other Mental Health Disorders                      Extreme                                      12\n",
       "Neonate Bwt <1500G W Major Procedure               Moderate                                     10\n",
       "Neonate Bwt 2000-2499G W Congenital/Perinatal I... Extreme                                       9\n",
       "Heart &/Or Lung Transplant                         Minor                                         8\n",
       "Musculoskeletal & Other Procedures For Multiple... Minor                                         8\n",
       "Adjustment Disorders & Neuroses Except Depressi... Extreme                                       7\n",
       "Childhood Behavioral Disorders                     Extreme                                       7\n",
       "Neonate Birthwt >2499G, Normal Newborn Or Neona... Extreme                                       7\n",
       "Extensive Abdominal/Thoracic Procedures For Mul... Minor                                         4\n",
       "Cleft Lip & Palate Repair                          Extreme                                       4\n",
       "Extensive 3Rd Degree Burns W Skin Graft            Moderate                                      3\n",
       "Neonate Bwt 1500-2499G W Major Procedure           Minor                                         3\n",
       "Neonate Bwt 2000-2499G, Normal Newborn Or Neona... Extreme                                       2\n",
       "Preterm Labor                                      Extreme                                       2\n",
       "Extensive 3Rd Degree Burns W Skin Graft            Minor                                         2\n",
       "Craniotomy For Multiple Significant Trauma         Minor                                         1\n",
       "Neonate Bwt <1500G W Major Procedure               Minor                                         1\n",
       "Neonate W Ecmo                                     Moderate                                      1\n",
       "\n",
       "[1247 rows x 1 columns]"
      ]
     },
     "execution_count": 162,
     "metadata": {},
     "output_type": "execute_result"
    }
   ],
   "source": [
    "# Step 1. Group illnesses by description and severity\n",
    "group = (df[['APR DRG Description', 'APR Severity of Illness Description', 'Discharges']]\n",
    "    .groupby(['APR DRG Description', 'APR Severity of Illness Description'])\n",
    "    .sum())\n",
    "\n",
    "# Step 2. Which illness has the most discharges?\n",
    "group.sort_values(by='Discharges', ascending=False)"
   ]
  },
  {
   "cell_type": "markdown",
   "metadata": {},
   "source": [
    "Good, number of discharges for extreme or major illnesses are lower compared to those of minor and moderate. We have higher chances to survive this."
   ]
  }
 ],
 "metadata": {
  "kernelspec": {
   "display_name": "Python 3",
   "language": "python",
   "name": "python3"
  },
  "language_info": {
   "codemirror_mode": {
    "name": "ipython",
    "version": 3
   },
   "file_extension": ".py",
   "mimetype": "text/x-python",
   "name": "python",
   "nbconvert_exporter": "python",
   "pygments_lexer": "ipython3",
   "version": "3.6.3"
  }
 },
 "nbformat": 4,
 "nbformat_minor": 2
}
